{
 "cells": [
  {
   "cell_type": "code",
   "execution_count": 11,
   "metadata": {},
   "outputs": [],
   "source": [
    "import pandas as pd\n",
    "import numpy as np\n",
    "import matplotlib.pyplot as plt"
   ]
  },
  {
   "cell_type": "code",
   "execution_count": 4,
   "metadata": {},
   "outputs": [],
   "source": [
    "df_lebron = pd.read_csv('Data/1_lebron_james_shot_chart_1_2023.csv')\n",
    "df_harden = pd.read_csv('Data/2_james_harden_shot_chart_2023.csv')\n",
    "df_curry = pd.read_csv('Data/3_stephen_curry_shot_chart_2023.csv')"
   ]
  },
  {
   "cell_type": "code",
   "execution_count": 9,
   "metadata": {},
   "outputs": [
    {
     "name": "stdout",
     "output_type": "stream",
     "text": [
      "top                     int64\n",
      "left                    int64\n",
      "date                   object\n",
      "qtr                    object\n",
      "time_remaining         object\n",
      "result                   bool\n",
      "shot_type               int64\n",
      "distance_ft             int64\n",
      "lead                     bool\n",
      "lebron_team_score       int64\n",
      "opponent_team_score     int64\n",
      "opponent               object\n",
      "team                   object\n",
      "season                  int64\n",
      "color                  object\n",
      "dtype: object\n"
     ]
    }
   ],
   "source": [
    "print(df_lebron.dtypes)"
   ]
  },
  {
   "cell_type": "code",
   "execution_count": 10,
   "metadata": {},
   "outputs": [
    {
     "name": "stdout",
     "output_type": "stream",
     "text": [
      "               top         left    shot_type  distance_ft  lebron_team_score  \\\n",
      "count  1533.000000  1533.000000  1533.000000  1533.000000        1533.000000   \n",
      "mean    151.410959   231.982387     2.318982    12.960861          59.813438   \n",
      "std      98.316684    91.626122     0.466234    10.698687          35.376109   \n",
      "min      36.000000     2.000000     2.000000     0.000000           0.000000   \n",
      "25%      67.000000   193.000000     2.000000     3.000000          31.000000   \n",
      "50%      98.000000   238.000000     2.000000    10.000000          60.000000   \n",
      "75%     251.000000   261.000000     3.000000    25.000000          88.000000   \n",
      "max     389.000000   478.000000     3.000000    34.000000         140.000000   \n",
      "\n",
      "       opponent_team_score  season  \n",
      "count          1533.000000  1533.0  \n",
      "mean             59.098500  2023.0  \n",
      "std              35.456701     0.0  \n",
      "min               0.000000  2023.0  \n",
      "25%              31.000000  2023.0  \n",
      "50%              59.000000  2023.0  \n",
      "75%              88.000000  2023.0  \n",
      "max             133.000000  2023.0  \n"
     ]
    }
   ],
   "source": [
    "print(df_lebron.describe())"
   ]
  },
  {
   "cell_type": "code",
   "execution_count": 13,
   "metadata": {},
   "outputs": [
    {
     "name": "stdout",
     "output_type": "stream",
     "text": [
      "               top         left    shot_type  distance_ft  lebron_team_score  \\\n",
      "count  1025.000000  1025.000000  1025.000000  1025.000000        1025.000000   \n",
      "mean    187.128780   263.727805     2.486829    16.507317          56.415610   \n",
      "std     100.476856    96.539798     0.500070    10.589748          33.629167   \n",
      "min      31.000000    -3.000000     2.000000     0.000000           0.000000   \n",
      "25%      83.000000   216.000000     2.000000     5.000000          29.000000   \n",
      "50%     180.000000   243.000000     2.000000    19.000000          55.000000   \n",
      "75%     292.000000   328.000000     3.000000    26.000000          83.000000   \n",
      "max     368.000000   481.000000     3.000000    32.000000         135.000000   \n",
      "\n",
      "       opponent_team_score  season  \n",
      "count          1025.000000  1025.0  \n",
      "mean             55.072195  2023.0  \n",
      "std              33.086987     0.0  \n",
      "min               0.000000  2023.0  \n",
      "25%              28.000000  2023.0  \n",
      "50%              54.000000  2023.0  \n",
      "75%              83.000000  2023.0  \n",
      "max             131.000000  2023.0  \n"
     ]
    }
   ],
   "source": [
    "print(df_harden.describe())"
   ]
  },
  {
   "cell_type": "code",
   "execution_count": 14,
   "metadata": {},
   "outputs": [
    {
     "name": "stdout",
     "output_type": "stream",
     "text": [
      "               top         left    shot_type  distance_ft  lebron_team_score  \\\n",
      "count  1434.000000  1434.000000  1434.000000  1434.000000        1434.000000   \n",
      "mean    191.847280   246.480474     2.548117    18.411437          63.510460   \n",
      "std     101.700886   120.059755     0.497853    10.367741          34.686879   \n",
      "min      26.000000    -3.000000     2.000000     0.000000           0.000000   \n",
      "25%      80.000000   172.000000     2.000000     6.000000          34.000000   \n",
      "50%     208.000000   249.000000     3.000000    24.000000          65.500000   \n",
      "75%     287.000000   328.000000     3.000000    27.000000          93.000000   \n",
      "max     388.000000   483.000000     3.000000    36.000000         128.000000   \n",
      "\n",
      "       opponent_team_score  season  \n",
      "count          1434.000000  1434.0  \n",
      "mean             62.246165  2023.0  \n",
      "std              34.981942     0.0  \n",
      "min               0.000000  2023.0  \n",
      "25%              34.250000  2023.0  \n",
      "50%              63.000000  2023.0  \n",
      "75%              91.000000  2023.0  \n",
      "max             135.000000  2023.0  \n"
     ]
    }
   ],
   "source": [
    "print(df_curry.describe())"
   ]
  }
 ],
 "metadata": {
  "kernelspec": {
   "display_name": "Python 3",
   "language": "python",
   "name": "python3"
  },
  "language_info": {
   "codemirror_mode": {
    "name": "ipython",
    "version": 3
   },
   "file_extension": ".py",
   "mimetype": "text/x-python",
   "name": "python",
   "nbconvert_exporter": "python",
   "pygments_lexer": "ipython3",
   "version": "3.9.13"
  }
 },
 "nbformat": 4,
 "nbformat_minor": 2
}
